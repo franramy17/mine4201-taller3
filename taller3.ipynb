{
 "cells": [
  {
   "cell_type": "code",
   "execution_count": 1,
   "metadata": {},
   "outputs": [],
   "source": [
    "from SPARQLWrapper import SPARQLWrapper, JSON\n"
   ]
  },
  {
   "cell_type": "code",
   "execution_count": 86,
   "metadata": {},
   "outputs": [],
   "source": [
    "query = 'SELECT ?label ?film WHERE { ?film rdf:type dbo:Film . ?film rdfs:label ?label . FILTER (lang(?label) = \\'en\\') filter contains(?label, \"The Godfather\") } LIMIT 50'\n",
    "\n",
    "def get_country_description():\n",
    "    sparql = SPARQLWrapper(\"http://dbpedia.org/sparql\")\n",
    "    sparql.setReturnFormat(JSON)\n",
    "\n",
    "    sparql.setQuery(query)  # the previous query as a literal string\n",
    "\n",
    "    return sparql.query().convert()"
   ]
  },
  {
   "cell_type": "code",
   "execution_count": 87,
   "metadata": {},
   "outputs": [
    {
     "data": {
      "text/plain": [
       "{'head': {'link': [], 'vars': ['label', 'film']},\n",
       " 'results': {'bindings': [{'film': {'type': 'uri',\n",
       "     'value': 'http://dbpedia.org/resource/Square_Grouper:_The_Godfathers_of_Ganja'},\n",
       "    'label': {'type': 'literal',\n",
       "     'value': 'Square Grouper: The Godfathers of Ganja',\n",
       "     'xml:lang': 'en'}},\n",
       "   {'film': {'type': 'uri',\n",
       "     'value': 'http://dbpedia.org/resource/The_Godfather'},\n",
       "    'label': {'type': 'literal', 'value': 'The Godfather', 'xml:lang': 'en'}},\n",
       "   {'film': {'type': 'uri',\n",
       "     'value': 'http://dbpedia.org/resource/The_Godfather_(film_series)'},\n",
       "    'label': {'type': 'literal',\n",
       "     'value': 'The Godfather (film series)',\n",
       "     'xml:lang': 'en'}},\n",
       "   {'film': {'type': 'uri',\n",
       "     'value': 'http://dbpedia.org/resource/The_Godfather_Part_II'},\n",
       "    'label': {'type': 'literal',\n",
       "     'value': 'The Godfather Part II',\n",
       "     'xml:lang': 'en'}},\n",
       "   {'film': {'type': 'uri',\n",
       "     'value': 'http://dbpedia.org/resource/The_Godfather_Part_III'},\n",
       "    'label': {'type': 'literal',\n",
       "     'value': 'The Godfather Part III',\n",
       "     'xml:lang': 'en'}},\n",
       "   {'film': {'type': 'uri',\n",
       "     'value': 'http://dbpedia.org/resource/The_Godfather_of_Green_Bay'},\n",
       "    'label': {'type': 'literal',\n",
       "     'value': 'The Godfather of Green Bay',\n",
       "     'xml:lang': 'en'}},\n",
       "   {'film': {'type': 'uri',\n",
       "     'value': \"http://dbpedia.org/resource/The_Godfather's_Daughter_Mafia_Blues\"},\n",
       "    'label': {'type': 'literal',\n",
       "     'value': \"The Godfather's Daughter Mafia Blues\",\n",
       "     'xml:lang': 'en'}},\n",
       "   {'film': {'type': 'uri',\n",
       "     'value': 'http://dbpedia.org/resource/The_Godfather_Saga'},\n",
       "    'label': {'type': 'literal',\n",
       "     'value': 'The Godfather Saga',\n",
       "     'xml:lang': 'en'}}],\n",
       "  'distinct': False,\n",
       "  'ordered': True}}"
      ]
     },
     "execution_count": 87,
     "metadata": {},
     "output_type": "execute_result"
    }
   ],
   "source": [
    "get_country_description()"
   ]
  },
  {
   "cell_type": "code",
   "execution_count": null,
   "metadata": {},
   "outputs": [],
   "source": []
  }
 ],
 "metadata": {
  "kernelspec": {
   "display_name": "Python 3",
   "language": "python",
   "name": "python3"
  },
  "language_info": {
   "codemirror_mode": {
    "name": "ipython",
    "version": 3
   },
   "file_extension": ".py",
   "mimetype": "text/x-python",
   "name": "python",
   "nbconvert_exporter": "python",
   "pygments_lexer": "ipython3",
   "version": "3.6.4"
  }
 },
 "nbformat": 4,
 "nbformat_minor": 2
}
